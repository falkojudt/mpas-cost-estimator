{
 "cells": [
  {
   "cell_type": "markdown",
   "metadata": {},
   "source": [
    "# Estimating Computational Resources for MPAS Simulations  \n",
    "\n",
    "This notebook calculates the **computational resources required** for MPAS (Model for Prediction Across Scales) simulations based on user-defined parameters. It provides estimates for:  \n",
    "\n",
    "- **Core-Hours per Time Step per Grid Point** – A metric to assess computational efficiency.  \n",
    "- **Total Core-Hours for a Simulation** – The total computing cost based on simulatio\n"
   ]
  },
  {
   "cell_type": "markdown",
   "metadata": {},
   "source": [
    "## Calculating Core-Hours per Time Step per Grid Point\n",
    "\n",
    "This section focuses on determining the computational efficiency of our numerical simulations. We will calculate the core-hours consumed per time step per grid point, a metric that provides valuable insight into the performance of our atmospheric or climate models.\n",
    "\n",
    "The `calculate_core_hours_per_time_step_per_grid_point` function below is designed to analyze simulation results and derive this efficiency metric. It is particularly relevant for simulations that utilize the MPAS (Model for Prediction Across Scales) mesh.\n",
    "\n",
    "The calculations performed here are based on parameters similar to those used in the DYAMOND3 run conducted by Bill Skamarock. This run employed a 3.75-km MPAS mesh with 127 vertical levels and was executed on 200 Derecho nodes, each with 128 MPI processes. These predefined values can be used, or values from other simulations can be substituted. Using the parameters here, the computed value is approximately 2.56 × 10⁻⁹ core-hours per timestep. For comparison, in 2018 Michael Duda reported the Cheyenne computer's efficiency as approximately 3.95 × 10⁻⁹ core-hours per timestep.\n",
    "\n",
    "We also define a dictionary, `mesh_dict`, that stores mesh configurations for various resolutions and refinement patterns. This dictionary will be used to access grid parameters for our calculations."
   ]
  },
  {
   "cell_type": "code",
   "execution_count": 1,
   "metadata": {},
   "outputs": [],
   "source": [
    "import numpy as np"
   ]
  },
  {
   "cell_type": "code",
   "execution_count": 2,
   "metadata": {},
   "outputs": [
    {
     "name": "stdout",
     "output_type": "stream",
     "text": [
      "Calculated core hours per time step per grid point : 2.5639208763925117e-09\n"
     ]
    }
   ],
   "source": [
    "def calculate_core_hours_per_time_step_per_grid_point(total_core_hours_used, time_step_seconds, num_grid_columns, num_vertical_levels, simulation_days):\n",
    "    \"\"\"\n",
    "    Calculates the core-hours consumed per time step per grid point from simulation results.\n",
    "\n",
    "    This function determines the computational efficiency of a simulation by calculating\n",
    "    the core-hours used per time step per grid point. It is particularly useful for\n",
    "    analyzing the performance of atmospheric or climate models, such as those based on\n",
    "    the MPAS mesh.\n",
    "\n",
    "    This calculation is based on parameters similar to the DYAMOND3 run conducted by\n",
    "    Bill Skamarock, which utilized a 3.75-km MPAS mesh with 127 vertical levels,\n",
    "    run on 200 Derecho nodes with 128 MPI processes per node.\n",
    "\n",
    "    Args:\n",
    "        total_core_hours_used: The total core-hours consumed by the simulation.\n",
    "        time_step_seconds: The model time step in seconds.\n",
    "        num_grid_columns: The number of horizontal grid columns in the MPAS mesh.\n",
    "        num_vertical_levels: The number of vertical levels per grid column (e.g., 127).\n",
    "        simulation_days: The total length of the simulation in days.\n",
    "\n",
    "    Returns:\n",
    "        The core-hours consumed per time step per grid point.\n",
    "    \"\"\"\n",
    "\n",
    "    total_seconds = simulation_days * 24 * 3600\n",
    "    total_time_steps = total_seconds / time_step_seconds\n",
    "    total_grid_points = grid_columns * vertical_levels\n",
    "    core_hours_per_time_step_per_grid_point = total_core_hours_used / (total_time_steps * total_grid_points)\n",
    "    return core_hours_per_time_step_per_grid_point\n",
    "\n",
    "mesh_dict = {\n",
    "    \"3km\": [3, 65_536_002],  \n",
    "    \"3.75km\": [3.75, 41_943_042],  \n",
    "    \"7.5km\": [7.5, 10_485_762], \n",
    "    \"15km\": [15, 2_621_442],  \n",
    "    \"30km\": [30, 655_362],  \n",
    "    \"120km\": [120, 40_962],  \n",
    "    \"15-3km-ell\": [3, 8_060_930], \n",
    "    \"15-3km-cir\": [3, 6_488_066] \n",
    "}\n",
    "\n",
    "# mesh_dict: Dictionary storing MPAS mesh configurations.\n",
    "# Keys: Mesh resolution or refinement pattern (e.g., \"3km\", \"15-3km-ell\").\n",
    "# Values: Lists containing [grid spacing (km), number of horizontal grid columns].\n",
    "# Refinement meshes (\"15-3km-ell\", \"15-3km-cir\") use 3km resolution within a larger 15km mesh.\n",
    "\n",
    "dx = '3.75km'\n",
    "total_core_hours_used_for_example = 236_000\n",
    "time_step = 20  # seconds\n",
    "grid_columns = mesh_dict['3.75km'][1]  # nCells in MPAS terminology\n",
    "vertical_levels = 127                  # nVertLevels in MPAS terminology\n",
    "simulation_length = 4  # days\n",
    "\n",
    "core_hours_per_time_step_per_grid_point_calculated = calculate_core_hours_per_time_step_per_grid_point(\n",
    "    total_core_hours_used_for_example, time_step, grid_columns, vertical_levels, simulation_length\n",
    ")\n",
    "\n",
    "print(f\"Calculated core hours per time step per grid point : {core_hours_per_time_step_per_grid_point_calculated}\")\n"
   ]
  },
  {
   "cell_type": "markdown",
   "metadata": {},
   "source": [
    "## Calculating Total Core-Hours for a Numerical Simulation\n",
    "\n",
    "This code cell calculates the total core-hours required for a numerical simulation based on provided parameters. It utilizes a function, `calculate_core_hours`, which takes into account the time step, grid dimensions, simulation duration, and a pre-calculated value representing the core-hours consumed per time step per grid point.\n",
    "\n",
    "**Function: `calculate_core_hours`**\n",
    "\n",
    "This function performs the following steps:\n",
    "\n",
    "1.  **Calculates Total Simulation Time:** It converts the simulation length from days to seconds.\n",
    "2.  **Calculates Total Time Steps:** It determines the total number of time steps by dividing the total simulation time by the model time step.\n",
    "3.  **Calculates Total Grid Points:** It calculates the total number of grid points by multiplying the number of horizontal grid columns by the number of vertical levels.\n",
    "4.  **Calculates Total Core-Hours:** It computes the total core-hours by multiplying the total time steps, total grid points, and the pre-calculated core-hours per time step per grid point.\n",
    "\n",
    "**Example Usage:**\n",
    "\n",
    "The code then demonstrates an example usage of the function. It sets the simulation parameters:\n",
    "\n",
    "* `time_step`: The model time step in seconds (usually this is dx * 6).\n",
    "* `dx`: The horizontal grid spacing in kilometers, retrieved from the `mesh_dict`.\n",
    "* `grid_columns`: The number of horizontal grid columns, also retrieved from `mesh_dict`.\n",
    "* `vertical_levels`: The number of vertical levels per grid column.\n",
    "* `simulation_length`: The total simulation length in days.\n",
    "* `core_hours_per_time_step_per_grid_point`: A pre-calculated value representing the computational efficiency.\n",
    "\n",
    "The `calculate_core_hours` function is then called with these parameters, and the result is printed in a user-friendly format, including explanations of each parameter and the final core-hours calculation, rounded to two decimal places and expressed in millions of Derecho core-hours. The `numpy` library is used for the rounding."
   ]
  },
  {
   "cell_type": "code",
   "execution_count": 3,
   "metadata": {},
   "outputs": [
    {
     "name": "stdout",
     "output_type": "stream",
     "text": [
      "\n",
      "---- Total core hours needed for the following simulation parameters: ----\n",
      "dx (horizontal grid spacing of MPAS mesh) = 3.75 km\n",
      "nCells (number of horizontal grid columns) = 41943042\n",
      "dt (time step) = 20 s\n",
      "simulation length = 356 days\n",
      "--------\n",
      "21.0 Million Derecho core-hours\n"
     ]
    }
   ],
   "source": [
    "import numpy as np  # Import numpy for rounding\n",
    "\n",
    "def calculate_core_hours(time_step_seconds, num_grid_columns, num_vertical_levels, simulation_days, core_hours_per_time_step_per_grid_point):\n",
    "    \"\"\"\n",
    "    Calculates the total core-hours required for a numerical simulation.\n",
    "\n",
    "    This function computes the total core-hours needed based on simulation parameters,\n",
    "    including the time step, grid dimensions, simulation duration, and a pre-calculated\n",
    "    value for core-hours per time step per grid point.\n",
    "\n",
    "    Args:\n",
    "        time_step_seconds: The model time step in seconds.\n",
    "        num_grid_columns: The number of horizontal grid columns.\n",
    "        num_vertical_levels: The number of vertical levels per grid column.\n",
    "        simulation_days: The total length of the simulation in days.\n",
    "        core_hours_per_time_step_per_grid_point: The core-hours consumed per time step\n",
    "            per grid point. This value should be pre-calculated using a method like\n",
    "            `calculate_core_hours_per_time_step_per_grid_point` (see preceding notebook cell).\n",
    "\n",
    "    Returns:\n",
    "        The total core-hours required for the simulation.\n",
    "    \"\"\"\n",
    "\n",
    "    # Calculate total seconds in the simulation\n",
    "    total_seconds = simulation_days * 24 * 3600\n",
    "\n",
    "    # Calculate total number of time steps\n",
    "    total_time_steps = total_seconds / time_step_seconds\n",
    "\n",
    "    # Calculate total number of grid points\n",
    "    total_grid_points = num_grid_columns * num_vertical_levels\n",
    "\n",
    "    # Calculate total core hours\n",
    "    total_core_hours = total_time_steps * total_grid_points * core_hours_per_time_step_per_grid_point\n",
    "\n",
    "    return total_core_hours\n",
    "\n",
    "# Example usage:\n",
    "mesh =  \"3.75km\" \n",
    "time_step = 20  # seconds\n",
    "dx = mesh_dict[mesh][0]\n",
    "grid_columns = mesh_dict[mesh][1]\n",
    "vertical_levels = 127\n",
    "simulation_length = 356  # days\n",
    "core_hours_per_time_step_per_grid_point = 2.5639208763925117e-09  # Taken from example above, can be made a variable: core_hours_per_time_step_per_grid_point_calculated\n",
    "\n",
    "total_core_hours = calculate_core_hours(time_step, grid_columns, vertical_levels, simulation_length, core_hours_per_time_step_per_grid_point)\n",
    "\n",
    "print('\\n---- Total core hours needed for the following simulation parameters: ----')\n",
    "print(f'dx (horizontal grid spacing of MPAS mesh) = {dx} km')\n",
    "print(f'nCells (number of horizontal grid columns) = {grid_columns}')\n",
    "print(f'dt (time step) = {time_step} s')\n",
    "print(f'simulation length = {simulation_length} days')\n",
    "print('--------')\n",
    "print(f'{np.round((total_core_hours / 1.E6), 2)} Million Derecho core-hours')"
   ]
  },
  {
   "cell_type": "markdown",
   "metadata": {},
   "source": [
    "## Calculating Simulation Storage Requirements\n",
    "\n",
    "This code cell calculates the estimated disk space needed to store the output from a numerical simulation, separating the requirements for 2D and 3D variables.\n",
    "\n",
    "**Variables:**\n",
    "\n",
    "* `nvars_2d`: The number of 2-dimensional variables being saved.\n",
    "* `nvars_3d`: The number of 3-dimensional variables being saved.\n",
    "* `outputs_per_day_2d`: The number of times 2D variables are outputted per day.\n",
    "* `outputs_per_day_3d`: The number of times 3D variables are outputted per day.\n",
    "* `nCells`: The number of horizontal grid columns (assumed to be defined in a previous cell).\n",
    "* `num_vertical_levels`: The number of vertical levels of the 3D grid (assumed to be previously defined).\n",
    "* `length_in_days`: The total length of the simulation in days (assumed to be defined in a previous cell).\n",
    "\n",
    "**Calculations:**\n",
    "\n",
    "* **2D Storage:** The storage requirement for 2D variables is calculated by multiplying the number of 2D variables, the number of horizontal grid columns, the simulation length, and the output frequency, and then multiplying by 32 (bits) to account for single-precision floating-point storage.\n",
    "* **3D Storage:** The storage requirement for 3D variables is calculated similarly, but also includes the number of vertical levels.\n",
    "* **Conversion to Terabytes (TB):** The resulting storage values (in bits) are converted to terabytes by multiplying by `1.25e-13`.\n",
    "\n",
    "**Output:**\n",
    "\n",
    "The code then prints the estimated disk space needed for both 2D and 3D fields, rounded to the nearest terabyte.\n",
    "\n",
    "**Note:**\n",
    "\n",
    "This calculation assumes that all variables are stored in single-precision (32-bit) floating-point format. Ensure that `nCells`, `num_vertical_levels`, and `length_in_days` are defined in the notebook before running this cell."
   ]
  },
  {
   "cell_type": "code",
   "execution_count": 7,
   "metadata": {},
   "outputs": [
    {
     "name": "stdout",
     "output_type": "stream",
     "text": [
      "Storage needed for 2D fields: 21.5 TB\n",
      "Storage needed for 3D fields: 546.14 TB\n",
      "--------\n",
      "Total storage required: 567.64 TB\n"
     ]
    }
   ],
   "source": [
    "nvars_2d = 15  # Number of 2-dimensional variables\n",
    "nvars_3d = 9   # Number of 3-dimensional variables\n",
    "outputs_per_day_2d = 24  # Number of 2D output times per day\n",
    "outputs_per_day_3d = 8   # Number of 3D output times per day\n",
    "\n",
    "# Assuming grid_columns, vertical_levels, and simulation_length are defined from previous cells.\n",
    "storage_2d = (nvars_2d * grid_columns * simulation_length * outputs_per_day_2d) * 32  # 32 bits (single precision)\n",
    "storage_3d = (nvars_3d * grid_columns * vertical_levels * simulation_length * outputs_per_day_3d) * 32 \n",
    "\n",
    "print('Storage needed for 2D fields:', round(storage_2d * 1.25e-13, 2), 'TB')\n",
    "print('Storage needed for 3D fields:', round(storage_3d * 1.25e-13, 2), 'TB')\n",
    "print('--------')\n",
    "print(f'Total storage required: {np.round((storage_2d * 1.25e-13 +storage_3d * 1.25e-13), 2)} TB')"
   ]
  }
 ],
 "metadata": {
  "kernelspec": {
   "display_name": "Python 3 (ipykernel)",
   "language": "python",
   "name": "python3"
  },
  "language_info": {
   "codemirror_mode": {
    "name": "ipython",
    "version": 3
   },
   "file_extension": ".py",
   "mimetype": "text/x-python",
   "name": "python",
   "nbconvert_exporter": "python",
   "pygments_lexer": "ipython3",
   "version": "3.10.13"
  }
 },
 "nbformat": 4,
 "nbformat_minor": 4
}
